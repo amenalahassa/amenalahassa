{
 "metadata": {
  "kernelspec": {
   "display_name": "Python 3 (ipykernel)",
   "name": "python3",
   "language": "python"
  },
  "language_info": {
   "name": "python",
   "version": "3.10.13",
   "mimetype": "text/x-python",
   "codemirror_mode": {
    "name": "ipython",
    "version": 3
   },
   "pygments_lexer": "ipython3",
   "nbconvert_exporter": "python",
   "file_extension": ".py"
  },
  "kaggle": {
   "accelerator": "gpu",
   "dataSources": [
    {
     "sourceId": 8093264,
     "sourceType": "datasetVersion",
     "datasetId": 4587723
    },
    {
     "sourceId": 30173,
     "sourceType": "modelInstanceVersion",
     "isSourceIdPinned": true,
     "modelInstanceId": 25362
    },
    {
     "sourceId": 30174,
     "sourceType": "modelInstanceVersion",
     "isSourceIdPinned": true,
     "modelInstanceId": 25363
    }
   ],
   "dockerImageVersionId": 30665,
   "isInternetEnabled": true,
   "language": "python",
   "sourceType": "notebook",
   "isGpuEnabled": true
  },
  "colab": {
   "provenance": [],
   "machine_shape": "hm",
   "gpuType": "L4"
  },
  "accelerator": "GPU",
  "widgets": {
   "application/vnd.jupyter.widget-state+json": {
    "033f040f4b944deda5908b95fcfcf816": {
     "model_module": "@jupyter-widgets/controls",
     "model_name": "HBoxModel",
     "model_module_version": "1.5.0",
     "state": {
      "_dom_classes": [],
      "_model_module": "@jupyter-widgets/controls",
      "_model_module_version": "1.5.0",
      "_model_name": "HBoxModel",
      "_view_count": null,
      "_view_module": "@jupyter-widgets/controls",
      "_view_module_version": "1.5.0",
      "_view_name": "HBoxView",
      "box_style": "",
      "children": [
       "IPY_MODEL_6a84f8b042d54ec9ace288eecea1b823",
       "IPY_MODEL_32088edfca104516a2f708788e98aec8",
       "IPY_MODEL_4cf5ebde2b66434ca953a4508d905342"
      ],
      "layout": "IPY_MODEL_e20f7f965e8c48f7ae1140a6c70cfda4"
     }
    },
    "6a84f8b042d54ec9ace288eecea1b823": {
     "model_module": "@jupyter-widgets/controls",
     "model_name": "HTMLModel",
     "model_module_version": "1.5.0",
     "state": {
      "_dom_classes": [],
      "_model_module": "@jupyter-widgets/controls",
      "_model_module_version": "1.5.0",
      "_model_name": "HTMLModel",
      "_view_count": null,
      "_view_module": "@jupyter-widgets/controls",
      "_view_module_version": "1.5.0",
      "_view_name": "HTMLView",
      "description": "",
      "description_tooltip": null,
      "layout": "IPY_MODEL_f47db3d71dee48348ce8c927c12c8a93",
      "placeholder": "​",
      "style": "IPY_MODEL_33178f6e210e4b218cdc17aa1ddab0cf",
      "value": "tokenizer_config.json: 100%"
     }
    },
    "32088edfca104516a2f708788e98aec8": {
     "model_module": "@jupyter-widgets/controls",
     "model_name": "FloatProgressModel",
     "model_module_version": "1.5.0",
     "state": {
      "_dom_classes": [],
      "_model_module": "@jupyter-widgets/controls",
      "_model_module_version": "1.5.0",
      "_model_name": "FloatProgressModel",
      "_view_count": null,
      "_view_module": "@jupyter-widgets/controls",
      "_view_module_version": "1.5.0",
      "_view_name": "ProgressView",
      "bar_style": "success",
      "description": "",
      "description_tooltip": null,
      "layout": "IPY_MODEL_2f606b1b94d0444c9d0af9873af639ad",
      "max": 236,
      "min": 0,
      "orientation": "horizontal",
      "style": "IPY_MODEL_99a6dfe3043a459cb7b7bb8be7cfca9a",
      "value": 236
     }
    },
    "4cf5ebde2b66434ca953a4508d905342": {
     "model_module": "@jupyter-widgets/controls",
     "model_name": "HTMLModel",
     "model_module_version": "1.5.0",
     "state": {
      "_dom_classes": [],
      "_model_module": "@jupyter-widgets/controls",
      "_model_module_version": "1.5.0",
      "_model_name": "HTMLModel",
      "_view_count": null,
      "_view_module": "@jupyter-widgets/controls",
      "_view_module_version": "1.5.0",
      "_view_name": "HTMLView",
      "description": "",
      "description_tooltip": null,
      "layout": "IPY_MODEL_42aa46985c9a424891593f872e720bb9",
      "placeholder": "​",
      "style": "IPY_MODEL_95adf52fa6b44491a85722544d581a69",
      "value": " 236/236 [00:00&lt;00:00, 21.4kB/s]"
     }
    },
    "e20f7f965e8c48f7ae1140a6c70cfda4": {
     "model_module": "@jupyter-widgets/base",
     "model_name": "LayoutModel",
     "model_module_version": "1.2.0",
     "state": {
      "_model_module": "@jupyter-widgets/base",
      "_model_module_version": "1.2.0",
      "_model_name": "LayoutModel",
      "_view_count": null,
      "_view_module": "@jupyter-widgets/base",
      "_view_module_version": "1.2.0",
      "_view_name": "LayoutView",
      "align_content": null,
      "align_items": null,
      "align_self": null,
      "border": null,
      "bottom": null,
      "display": null,
      "flex": null,
      "flex_flow": null,
      "grid_area": null,
      "grid_auto_columns": null,
      "grid_auto_flow": null,
      "grid_auto_rows": null,
      "grid_column": null,
      "grid_gap": null,
      "grid_row": null,
      "grid_template_areas": null,
      "grid_template_columns": null,
      "grid_template_rows": null,
      "height": null,
      "justify_content": null,
      "justify_items": null,
      "left": null,
      "margin": null,
      "max_height": null,
      "max_width": null,
      "min_height": null,
      "min_width": null,
      "object_fit": null,
      "object_position": null,
      "order": null,
      "overflow": null,
      "overflow_x": null,
      "overflow_y": null,
      "padding": null,
      "right": null,
      "top": null,
      "visibility": null,
      "width": null
     }
    },
    "f47db3d71dee48348ce8c927c12c8a93": {
     "model_module": "@jupyter-widgets/base",
     "model_name": "LayoutModel",
     "model_module_version": "1.2.0",
     "state": {
      "_model_module": "@jupyter-widgets/base",
      "_model_module_version": "1.2.0",
      "_model_name": "LayoutModel",
      "_view_count": null,
      "_view_module": "@jupyter-widgets/base",
      "_view_module_version": "1.2.0",
      "_view_name": "LayoutView",
      "align_content": null,
      "align_items": null,
      "align_self": null,
      "border": null,
      "bottom": null,
      "display": null,
      "flex": null,
      "flex_flow": null,
      "grid_area": null,
      "grid_auto_columns": null,
      "grid_auto_flow": null,
      "grid_auto_rows": null,
      "grid_column": null,
      "grid_gap": null,
      "grid_row": null,
      "grid_template_areas": null,
      "grid_template_columns": null,
      "grid_template_rows": null,
      "height": null,
      "justify_content": null,
      "justify_items": null,
      "left": null,
      "margin": null,
      "max_height": null,
      "max_width": null,
      "min_height": null,
      "min_width": null,
      "object_fit": null,
      "object_position": null,
      "order": null,
      "overflow": null,
      "overflow_x": null,
      "overflow_y": null,
      "padding": null,
      "right": null,
      "top": null,
      "visibility": null,
      "width": null
     }
    },
    "33178f6e210e4b218cdc17aa1ddab0cf": {
     "model_module": "@jupyter-widgets/controls",
     "model_name": "DescriptionStyleModel",
     "model_module_version": "1.5.0",
     "state": {
      "_model_module": "@jupyter-widgets/controls",
      "_model_module_version": "1.5.0",
      "_model_name": "DescriptionStyleModel",
      "_view_count": null,
      "_view_module": "@jupyter-widgets/base",
      "_view_module_version": "1.2.0",
      "_view_name": "StyleView",
      "description_width": ""
     }
    },
    "2f606b1b94d0444c9d0af9873af639ad": {
     "model_module": "@jupyter-widgets/base",
     "model_name": "LayoutModel",
     "model_module_version": "1.2.0",
     "state": {
      "_model_module": "@jupyter-widgets/base",
      "_model_module_version": "1.2.0",
      "_model_name": "LayoutModel",
      "_view_count": null,
      "_view_module": "@jupyter-widgets/base",
      "_view_module_version": "1.2.0",
      "_view_name": "LayoutView",
      "align_content": null,
      "align_items": null,
      "align_self": null,
      "border": null,
      "bottom": null,
      "display": null,
      "flex": null,
      "flex_flow": null,
      "grid_area": null,
      "grid_auto_columns": null,
      "grid_auto_flow": null,
      "grid_auto_rows": null,
      "grid_column": null,
      "grid_gap": null,
      "grid_row": null,
      "grid_template_areas": null,
      "grid_template_columns": null,
      "grid_template_rows": null,
      "height": null,
      "justify_content": null,
      "justify_items": null,
      "left": null,
      "margin": null,
      "max_height": null,
      "max_width": null,
      "min_height": null,
      "min_width": null,
      "object_fit": null,
      "object_position": null,
      "order": null,
      "overflow": null,
      "overflow_x": null,
      "overflow_y": null,
      "padding": null,
      "right": null,
      "top": null,
      "visibility": null,
      "width": null
     }
    },
    "99a6dfe3043a459cb7b7bb8be7cfca9a": {
     "model_module": "@jupyter-widgets/controls",
     "model_name": "ProgressStyleModel",
     "model_module_version": "1.5.0",
     "state": {
      "_model_module": "@jupyter-widgets/controls",
      "_model_module_version": "1.5.0",
      "_model_name": "ProgressStyleModel",
      "_view_count": null,
      "_view_module": "@jupyter-widgets/base",
      "_view_module_version": "1.2.0",
      "_view_name": "StyleView",
      "bar_color": null,
      "description_width": ""
     }
    },
    "42aa46985c9a424891593f872e720bb9": {
     "model_module": "@jupyter-widgets/base",
     "model_name": "LayoutModel",
     "model_module_version": "1.2.0",
     "state": {
      "_model_module": "@jupyter-widgets/base",
      "_model_module_version": "1.2.0",
      "_model_name": "LayoutModel",
      "_view_count": null,
      "_view_module": "@jupyter-widgets/base",
      "_view_module_version": "1.2.0",
      "_view_name": "LayoutView",
      "align_content": null,
      "align_items": null,
      "align_self": null,
      "border": null,
      "bottom": null,
      "display": null,
      "flex": null,
      "flex_flow": null,
      "grid_area": null,
      "grid_auto_columns": null,
      "grid_auto_flow": null,
      "grid_auto_rows": null,
      "grid_column": null,
      "grid_gap": null,
      "grid_row": null,
      "grid_template_areas": null,
      "grid_template_columns": null,
      "grid_template_rows": null,
      "height": null,
      "justify_content": null,
      "justify_items": null,
      "left": null,
      "margin": null,
      "max_height": null,
      "max_width": null,
      "min_height": null,
      "min_width": null,
      "object_fit": null,
      "object_position": null,
      "order": null,
      "overflow": null,
      "overflow_x": null,
      "overflow_y": null,
      "padding": null,
      "right": null,
      "top": null,
      "visibility": null,
      "width": null
     }
    },
    "95adf52fa6b44491a85722544d581a69": {
     "model_module": "@jupyter-widgets/controls",
     "model_name": "DescriptionStyleModel",
     "model_module_version": "1.5.0",
     "state": {
      "_model_module": "@jupyter-widgets/controls",
      "_model_module_version": "1.5.0",
      "_model_name": "DescriptionStyleModel",
      "_view_count": null,
      "_view_module": "@jupyter-widgets/base",
      "_view_module_version": "1.2.0",
      "_view_name": "StyleView",
      "description_width": ""
     }
    },
    "c7661ce428bc413191c8e2f4ab726ea3": {
     "model_module": "@jupyter-widgets/controls",
     "model_name": "HBoxModel",
     "model_module_version": "1.5.0",
     "state": {
      "_dom_classes": [],
      "_model_module": "@jupyter-widgets/controls",
      "_model_module_version": "1.5.0",
      "_model_name": "HBoxModel",
      "_view_count": null,
      "_view_module": "@jupyter-widgets/controls",
      "_view_module_version": "1.5.0",
      "_view_name": "HBoxView",
      "box_style": "",
      "children": [
       "IPY_MODEL_2b8862d8658a4dafbcfe55120247aa42",
       "IPY_MODEL_c3de3cf526be44f4a217070e21f1e6c9",
       "IPY_MODEL_f4dc43c6dc6e4fb48b51a4fee6c63f88"
      ],
      "layout": "IPY_MODEL_5cbbf8abb0b3483493268e5a42f73388"
     }
    },
    "2b8862d8658a4dafbcfe55120247aa42": {
     "model_module": "@jupyter-widgets/controls",
     "model_name": "HTMLModel",
     "model_module_version": "1.5.0",
     "state": {
      "_dom_classes": [],
      "_model_module": "@jupyter-widgets/controls",
      "_model_module_version": "1.5.0",
      "_model_name": "HTMLModel",
      "_view_count": null,
      "_view_module": "@jupyter-widgets/controls",
      "_view_module_version": "1.5.0",
      "_view_name": "HTMLView",
      "description": "",
      "description_tooltip": null,
      "layout": "IPY_MODEL_bd1e6d00cd9b4d3482567a04689ede36",
      "placeholder": "​",
      "style": "IPY_MODEL_705ea3d8e14748fbaed0f0db24b97b4d",
      "value": "config.json: 100%"
     }
    },
    "c3de3cf526be44f4a217070e21f1e6c9": {
     "model_module": "@jupyter-widgets/controls",
     "model_name": "FloatProgressModel",
     "model_module_version": "1.5.0",
     "state": {
      "_dom_classes": [],
      "_model_module": "@jupyter-widgets/controls",
      "_model_module_version": "1.5.0",
      "_model_name": "FloatProgressModel",
      "_view_count": null,
      "_view_module": "@jupyter-widgets/controls",
      "_view_module_version": "1.5.0",
      "_view_name": "ProgressView",
      "bar_style": "success",
      "description": "",
      "description_tooltip": null,
      "layout": "IPY_MODEL_d69c0a40a9c04319b8bff01ce41c0c0b",
      "max": 732,
      "min": 0,
      "orientation": "horizontal",
      "style": "IPY_MODEL_d5619a48624847a691408f93d3874d32",
      "value": 732
     }
    },
    "f4dc43c6dc6e4fb48b51a4fee6c63f88": {
     "model_module": "@jupyter-widgets/controls",
     "model_name": "HTMLModel",
     "model_module_version": "1.5.0",
     "state": {
      "_dom_classes": [],
      "_model_module": "@jupyter-widgets/controls",
      "_model_module_version": "1.5.0",
      "_model_name": "HTMLModel",
      "_view_count": null,
      "_view_module": "@jupyter-widgets/controls",
      "_view_module_version": "1.5.0",
      "_view_name": "HTMLView",
      "description": "",
      "description_tooltip": null,
      "layout": "IPY_MODEL_59adfecdc9354c7895b134bf7d69cc69",
      "placeholder": "​",
      "style": "IPY_MODEL_fd603076cdd047df86856b3ece00b095",
      "value": " 732/732 [00:00&lt;00:00, 71.4kB/s]"
     }
    },
    "5cbbf8abb0b3483493268e5a42f73388": {
     "model_module": "@jupyter-widgets/base",
     "model_name": "LayoutModel",
     "model_module_version": "1.2.0",
     "state": {
      "_model_module": "@jupyter-widgets/base",
      "_model_module_version": "1.2.0",
      "_model_name": "LayoutModel",
      "_view_count": null,
      "_view_module": "@jupyter-widgets/base",
      "_view_module_version": "1.2.0",
      "_view_name": "LayoutView",
      "align_content": null,
      "align_items": null,
      "align_self": null,
      "border": null,
      "bottom": null,
      "display": null,
      "flex": null,
      "flex_flow": null,
      "grid_area": null,
      "grid_auto_columns": null,
      "grid_auto_flow": null,
      "grid_auto_rows": null,
      "grid_column": null,
      "grid_gap": null,
      "grid_row": null,
      "grid_template_areas": null,
      "grid_template_columns": null,
      "grid_template_rows": null,
      "height": null,
      "justify_content": null,
      "justify_items": null,
      "left": null,
      "margin": null,
      "max_height": null,
      "max_width": null,
      "min_height": null,
      "min_width": null,
      "object_fit": null,
      "object_position": null,
      "order": null,
      "overflow": null,
      "overflow_x": null,
      "overflow_y": null,
      "padding": null,
      "right": null,
      "top": null,
      "visibility": null,
      "width": null
     }
    },
    "bd1e6d00cd9b4d3482567a04689ede36": {
     "model_module": "@jupyter-widgets/base",
     "model_name": "LayoutModel",
     "model_module_version": "1.2.0",
     "state": {
      "_model_module": "@jupyter-widgets/base",
      "_model_module_version": "1.2.0",
      "_model_name": "LayoutModel",
      "_view_count": null,
      "_view_module": "@jupyter-widgets/base",
      "_view_module_version": "1.2.0",
      "_view_name": "LayoutView",
      "align_content": null,
      "align_items": null,
      "align_self": null,
      "border": null,
      "bottom": null,
      "display": null,
      "flex": null,
      "flex_flow": null,
      "grid_area": null,
      "grid_auto_columns": null,
      "grid_auto_flow": null,
      "grid_auto_rows": null,
      "grid_column": null,
      "grid_gap": null,
      "grid_row": null,
      "grid_template_areas": null,
      "grid_template_columns": null,
      "grid_template_rows": null,
      "height": null,
      "justify_content": null,
      "justify_items": null,
      "left": null,
      "margin": null,
      "max_height": null,
      "max_width": null,
      "min_height": null,
      "min_width": null,
      "object_fit": null,
      "object_position": null,
      "order": null,
      "overflow": null,
      "overflow_x": null,
      "overflow_y": null,
      "padding": null,
      "right": null,
      "top": null,
      "visibility": null,
      "width": null
     }
    },
    "705ea3d8e14748fbaed0f0db24b97b4d": {
     "model_module": "@jupyter-widgets/controls",
     "model_name": "DescriptionStyleModel",
     "model_module_version": "1.5.0",
     "state": {
      "_model_module": "@jupyter-widgets/controls",
      "_model_module_version": "1.5.0",
      "_model_name": "DescriptionStyleModel",
      "_view_count": null,
      "_view_module": "@jupyter-widgets/base",
      "_view_module_version": "1.2.0",
      "_view_name": "StyleView",
      "description_width": ""
     }
    },
    "d69c0a40a9c04319b8bff01ce41c0c0b": {
     "model_module": "@jupyter-widgets/base",
     "model_name": "LayoutModel",
     "model_module_version": "1.2.0",
     "state": {
      "_model_module": "@jupyter-widgets/base",
      "_model_module_version": "1.2.0",
      "_model_name": "LayoutModel",
      "_view_count": null,
      "_view_module": "@jupyter-widgets/base",
      "_view_module_version": "1.2.0",
      "_view_name": "LayoutView",
      "align_content": null,
      "align_items": null,
      "align_self": null,
      "border": null,
      "bottom": null,
      "display": null,
      "flex": null,
      "flex_flow": null,
      "grid_area": null,
      "grid_auto_columns": null,
      "grid_auto_flow": null,
      "grid_auto_rows": null,
      "grid_column": null,
      "grid_gap": null,
      "grid_row": null,
      "grid_template_areas": null,
      "grid_template_columns": null,
      "grid_template_rows": null,
      "height": null,
      "justify_content": null,
      "justify_items": null,
      "left": null,
      "margin": null,
      "max_height": null,
      "max_width": null,
      "min_height": null,
      "min_width": null,
      "object_fit": null,
      "object_position": null,
      "order": null,
      "overflow": null,
      "overflow_x": null,
      "overflow_y": null,
      "padding": null,
      "right": null,
      "top": null,
      "visibility": null,
      "width": null
     }
    },
    "d5619a48624847a691408f93d3874d32": {
     "model_module": "@jupyter-widgets/controls",
     "model_name": "ProgressStyleModel",
     "model_module_version": "1.5.0",
     "state": {
      "_model_module": "@jupyter-widgets/controls",
      "_model_module_version": "1.5.0",
      "_model_name": "ProgressStyleModel",
      "_view_count": null,
      "_view_module": "@jupyter-widgets/base",
      "_view_module_version": "1.2.0",
      "_view_name": "StyleView",
      "bar_color": null,
      "description_width": ""
     }
    },
    "59adfecdc9354c7895b134bf7d69cc69": {
     "model_module": "@jupyter-widgets/base",
     "model_name": "LayoutModel",
     "model_module_version": "1.2.0",
     "state": {
      "_model_module": "@jupyter-widgets/base",
      "_model_module_version": "1.2.0",
      "_model_name": "LayoutModel",
      "_view_count": null,
      "_view_module": "@jupyter-widgets/base",
      "_view_module_version": "1.2.0",
      "_view_name": "LayoutView",
      "align_content": null,
      "align_items": null,
      "align_self": null,
      "border": null,
      "bottom": null,
      "display": null,
      "flex": null,
      "flex_flow": null,
      "grid_area": null,
      "grid_auto_columns": null,
      "grid_auto_flow": null,
      "grid_auto_rows": null,
      "grid_column": null,
      "grid_gap": null,
      "grid_row": null,
      "grid_template_areas": null,
      "grid_template_columns": null,
      "grid_template_rows": null,
      "height": null,
      "justify_content": null,
      "justify_items": null,
      "left": null,
      "margin": null,
      "max_height": null,
      "max_width": null,
      "min_height": null,
      "min_width": null,
      "object_fit": null,
      "object_position": null,
      "order": null,
      "overflow": null,
      "overflow_x": null,
      "overflow_y": null,
      "padding": null,
      "right": null,
      "top": null,
      "visibility": null,
      "width": null
     }
    },
    "fd603076cdd047df86856b3ece00b095": {
     "model_module": "@jupyter-widgets/controls",
     "model_name": "DescriptionStyleModel",
     "model_module_version": "1.5.0",
     "state": {
      "_model_module": "@jupyter-widgets/controls",
      "_model_module_version": "1.5.0",
      "_model_name": "DescriptionStyleModel",
      "_view_count": null,
      "_view_module": "@jupyter-widgets/base",
      "_view_module_version": "1.2.0",
      "_view_name": "StyleView",
      "description_width": ""
     }
    },
    "7e5a2d737d0d486683bf10a2b94ddbac": {
     "model_module": "@jupyter-widgets/controls",
     "model_name": "HBoxModel",
     "model_module_version": "1.5.0",
     "state": {
      "_dom_classes": [],
      "_model_module": "@jupyter-widgets/controls",
      "_model_module_version": "1.5.0",
      "_model_name": "HBoxModel",
      "_view_count": null,
      "_view_module": "@jupyter-widgets/controls",
      "_view_module_version": "1.5.0",
      "_view_name": "HBoxView",
      "box_style": "",
      "children": [
       "IPY_MODEL_d3702a3e440c4ccb92bc86a0dbe2a2a9",
       "IPY_MODEL_08ec911bcdb3416a89fe03e2aab6e728",
       "IPY_MODEL_fdc04789586844a99e09b4c922c4988c"
      ],
      "layout": "IPY_MODEL_3e6b39f2af9a445490ba18695d808aef"
     }
    },
    "d3702a3e440c4ccb92bc86a0dbe2a2a9": {
     "model_module": "@jupyter-widgets/controls",
     "model_name": "HTMLModel",
     "model_module_version": "1.5.0",
     "state": {
      "_dom_classes": [],
      "_model_module": "@jupyter-widgets/controls",
      "_model_module_version": "1.5.0",
      "_model_name": "HTMLModel",
      "_view_count": null,
      "_view_module": "@jupyter-widgets/controls",
      "_view_module_version": "1.5.0",
      "_view_name": "HTMLView",
      "description": "",
      "description_tooltip": null,
      "layout": "IPY_MODEL_848260d42d744acbafa8559f5b26b766",
      "placeholder": "​",
      "style": "IPY_MODEL_52431e8dd209470caadcb3d348d18c25",
      "value": "sentencepiece.bpe.model: 100%"
     }
    },
    "08ec911bcdb3416a89fe03e2aab6e728": {
     "model_module": "@jupyter-widgets/controls",
     "model_name": "FloatProgressModel",
     "model_module_version": "1.5.0",
     "state": {
      "_dom_classes": [],
      "_model_module": "@jupyter-widgets/controls",
      "_model_module_version": "1.5.0",
      "_model_name": "FloatProgressModel",
      "_view_count": null,
      "_view_module": "@jupyter-widgets/controls",
      "_view_module_version": "1.5.0",
      "_view_name": "ProgressView",
      "bar_style": "success",
      "description": "",
      "description_tooltip": null,
      "layout": "IPY_MODEL_03232f64ec214c41a209935d8ea1c4b9",
      "max": 810912,
      "min": 0,
      "orientation": "horizontal",
      "style": "IPY_MODEL_8041800c48bf40bfb5c49ff9590f2d06",
      "value": 810912
     }
    },
    "fdc04789586844a99e09b4c922c4988c": {
     "model_module": "@jupyter-widgets/controls",
     "model_name": "HTMLModel",
     "model_module_version": "1.5.0",
     "state": {
      "_dom_classes": [],
      "_model_module": "@jupyter-widgets/controls",
      "_model_module_version": "1.5.0",
      "_model_name": "HTMLModel",
      "_view_count": null,
      "_view_module": "@jupyter-widgets/controls",
      "_view_module_version": "1.5.0",
      "_view_name": "HTMLView",
      "description": "",
      "description_tooltip": null,
      "layout": "IPY_MODEL_012f5743bd8849fe82d4111c3342cbd4",
      "placeholder": "​",
      "style": "IPY_MODEL_722f61da6ef045a1bb64e8ba342e82b6",
      "value": " 811k/811k [00:00&lt;00:00, 16.4MB/s]"
     }
    },
    "3e6b39f2af9a445490ba18695d808aef": {
     "model_module": "@jupyter-widgets/base",
     "model_name": "LayoutModel",
     "model_module_version": "1.2.0",
     "state": {
      "_model_module": "@jupyter-widgets/base",
      "_model_module_version": "1.2.0",
      "_model_name": "LayoutModel",
      "_view_count": null,
      "_view_module": "@jupyter-widgets/base",
      "_view_module_version": "1.2.0",
      "_view_name": "LayoutView",
      "align_content": null,
      "align_items": null,
      "align_self": null,
      "border": null,
      "bottom": null,
      "display": null,
      "flex": null,
      "flex_flow": null,
      "grid_area": null,
      "grid_auto_columns": null,
      "grid_auto_flow": null,
      "grid_auto_rows": null,
      "grid_column": null,
      "grid_gap": null,
      "grid_row": null,
      "grid_template_areas": null,
      "grid_template_columns": null,
      "grid_template_rows": null,
      "height": null,
      "justify_content": null,
      "justify_items": null,
      "left": null,
      "margin": null,
      "max_height": null,
      "max_width": null,
      "min_height": null,
      "min_width": null,
      "object_fit": null,
      "object_position": null,
      "order": null,
      "overflow": null,
      "overflow_x": null,
      "overflow_y": null,
      "padding": null,
      "right": null,
      "top": null,
      "visibility": null,
      "width": null
     }
    },
    "848260d42d744acbafa8559f5b26b766": {
     "model_module": "@jupyter-widgets/base",
     "model_name": "LayoutModel",
     "model_module_version": "1.2.0",
     "state": {
      "_model_module": "@jupyter-widgets/base",
      "_model_module_version": "1.2.0",
      "_model_name": "LayoutModel",
      "_view_count": null,
      "_view_module": "@jupyter-widgets/base",
      "_view_module_version": "1.2.0",
      "_view_name": "LayoutView",
      "align_content": null,
      "align_items": null,
      "align_self": null,
      "border": null,
      "bottom": null,
      "display": null,
      "flex": null,
      "flex_flow": null,
      "grid_area": null,
      "grid_auto_columns": null,
      "grid_auto_flow": null,
      "grid_auto_rows": null,
      "grid_column": null,
      "grid_gap": null,
      "grid_row": null,
      "grid_template_areas": null,
      "grid_template_columns": null,
      "grid_template_rows": null,
      "height": null,
      "justify_content": null,
      "justify_items": null,
      "left": null,
      "margin": null,
      "max_height": null,
      "max_width": null,
      "min_height": null,
      "min_width": null,
      "object_fit": null,
      "object_position": null,
      "order": null,
      "overflow": null,
      "overflow_x": null,
      "overflow_y": null,
      "padding": null,
      "right": null,
      "top": null,
      "visibility": null,
      "width": null
     }
    },
    "52431e8dd209470caadcb3d348d18c25": {
     "model_module": "@jupyter-widgets/controls",
     "model_name": "DescriptionStyleModel",
     "model_module_version": "1.5.0",
     "state": {
      "_model_module": "@jupyter-widgets/controls",
      "_model_module_version": "1.5.0",
      "_model_name": "DescriptionStyleModel",
      "_view_count": null,
      "_view_module": "@jupyter-widgets/base",
      "_view_module_version": "1.2.0",
      "_view_name": "StyleView",
      "description_width": ""
     }
    },
    "03232f64ec214c41a209935d8ea1c4b9": {
     "model_module": "@jupyter-widgets/base",
     "model_name": "LayoutModel",
     "model_module_version": "1.2.0",
     "state": {
      "_model_module": "@jupyter-widgets/base",
      "_model_module_version": "1.2.0",
      "_model_name": "LayoutModel",
      "_view_count": null,
      "_view_module": "@jupyter-widgets/base",
      "_view_module_version": "1.2.0",
      "_view_name": "LayoutView",
      "align_content": null,
      "align_items": null,
      "align_self": null,
      "border": null,
      "bottom": null,
      "display": null,
      "flex": null,
      "flex_flow": null,
      "grid_area": null,
      "grid_auto_columns": null,
      "grid_auto_flow": null,
      "grid_auto_rows": null,
      "grid_column": null,
      "grid_gap": null,
      "grid_row": null,
      "grid_template_areas": null,
      "grid_template_columns": null,
      "grid_template_rows": null,
      "height": null,
      "justify_content": null,
      "justify_items": null,
      "left": null,
      "margin": null,
      "max_height": null,
      "max_width": null,
      "min_height": null,
      "min_width": null,
      "object_fit": null,
      "object_position": null,
      "order": null,
      "overflow": null,
      "overflow_x": null,
      "overflow_y": null,
      "padding": null,
      "right": null,
      "top": null,
      "visibility": null,
      "width": null
     }
    },
    "8041800c48bf40bfb5c49ff9590f2d06": {
     "model_module": "@jupyter-widgets/controls",
     "model_name": "ProgressStyleModel",
     "model_module_version": "1.5.0",
     "state": {
      "_model_module": "@jupyter-widgets/controls",
      "_model_module_version": "1.5.0",
      "_model_name": "ProgressStyleModel",
      "_view_count": null,
      "_view_module": "@jupyter-widgets/base",
      "_view_module_version": "1.2.0",
      "_view_name": "StyleView",
      "bar_color": null,
      "description_width": ""
     }
    },
    "012f5743bd8849fe82d4111c3342cbd4": {
     "model_module": "@jupyter-widgets/base",
     "model_name": "LayoutModel",
     "model_module_version": "1.2.0",
     "state": {
      "_model_module": "@jupyter-widgets/base",
      "_model_module_version": "1.2.0",
      "_model_name": "LayoutModel",
      "_view_count": null,
      "_view_module": "@jupyter-widgets/base",
      "_view_module_version": "1.2.0",
      "_view_name": "LayoutView",
      "align_content": null,
      "align_items": null,
      "align_self": null,
      "border": null,
      "bottom": null,
      "display": null,
      "flex": null,
      "flex_flow": null,
      "grid_area": null,
      "grid_auto_columns": null,
      "grid_auto_flow": null,
      "grid_auto_rows": null,
      "grid_column": null,
      "grid_gap": null,
      "grid_row": null,
      "grid_template_areas": null,
      "grid_template_columns": null,
      "grid_template_rows": null,
      "height": null,
      "justify_content": null,
      "justify_items": null,
      "left": null,
      "margin": null,
      "max_height": null,
      "max_width": null,
      "min_height": null,
      "min_width": null,
      "object_fit": null,
      "object_position": null,
      "order": null,
      "overflow": null,
      "overflow_x": null,
      "overflow_y": null,
      "padding": null,
      "right": null,
      "top": null,
      "visibility": null,
      "width": null
     }
    },
    "722f61da6ef045a1bb64e8ba342e82b6": {
     "model_module": "@jupyter-widgets/controls",
     "model_name": "DescriptionStyleModel",
     "model_module_version": "1.5.0",
     "state": {
      "_model_module": "@jupyter-widgets/controls",
      "_model_module_version": "1.5.0",
      "_model_name": "DescriptionStyleModel",
      "_view_count": null,
      "_view_module": "@jupyter-widgets/base",
      "_view_module_version": "1.2.0",
      "_view_name": "StyleView",
      "description_width": ""
     }
    },
    "e4c6e8c40e72425badd4686d0db348a4": {
     "model_module": "@jupyter-widgets/controls",
     "model_name": "HBoxModel",
     "model_module_version": "1.5.0",
     "state": {
      "_dom_classes": [],
      "_model_module": "@jupyter-widgets/controls",
      "_model_module_version": "1.5.0",
      "_model_name": "HBoxModel",
      "_view_count": null,
      "_view_module": "@jupyter-widgets/controls",
      "_view_module_version": "1.5.0",
      "_view_name": "HBoxView",
      "box_style": "",
      "children": [
       "IPY_MODEL_6ea5d2f89346411abfc2cba10e0fb4a1",
       "IPY_MODEL_aa6c03fb648c4b84b0c80632ac016e19",
       "IPY_MODEL_5876ef9222ab4d369eaf015fdb2af3a8"
      ],
      "layout": "IPY_MODEL_e3ac99a63dca4ce5843ac77e37a4317d"
     }
    },
    "6ea5d2f89346411abfc2cba10e0fb4a1": {
     "model_module": "@jupyter-widgets/controls",
     "model_name": "HTMLModel",
     "model_module_version": "1.5.0",
     "state": {
      "_dom_classes": [],
      "_model_module": "@jupyter-widgets/controls",
      "_model_module_version": "1.5.0",
      "_model_name": "HTMLModel",
      "_view_count": null,
      "_view_module": "@jupyter-widgets/controls",
      "_view_module_version": "1.5.0",
      "_view_name": "HTMLView",
      "description": "",
      "description_tooltip": null,
      "layout": "IPY_MODEL_639e0d5839aa4fa481b18a6d71a89031",
      "placeholder": "​",
      "style": "IPY_MODEL_644f173235004c97985e3c7eb46318a3",
      "value": "model.safetensors: 100%"
     }
    },
    "aa6c03fb648c4b84b0c80632ac016e19": {
     "model_module": "@jupyter-widgets/controls",
     "model_name": "FloatProgressModel",
     "model_module_version": "1.5.0",
     "state": {
      "_dom_classes": [],
      "_model_module": "@jupyter-widgets/controls",
      "_model_module_version": "1.5.0",
      "_model_name": "FloatProgressModel",
      "_view_count": null,
      "_view_module": "@jupyter-widgets/controls",
      "_view_module_version": "1.5.0",
      "_view_name": "ProgressView",
      "bar_style": "success",
      "description": "",
      "description_tooltip": null,
      "layout": "IPY_MODEL_c858ac9569164be691f45d3122e01766",
      "max": 272529844,
      "min": 0,
      "orientation": "horizontal",
      "style": "IPY_MODEL_82eac847c8564204a1578e0fbd261712",
      "value": 272529844
     }
    },
    "5876ef9222ab4d369eaf015fdb2af3a8": {
     "model_module": "@jupyter-widgets/controls",
     "model_name": "HTMLModel",
     "model_module_version": "1.5.0",
     "state": {
      "_dom_classes": [],
      "_model_module": "@jupyter-widgets/controls",
      "_model_module_version": "1.5.0",
      "_model_name": "HTMLModel",
      "_view_count": null,
      "_view_module": "@jupyter-widgets/controls",
      "_view_module_version": "1.5.0",
      "_view_name": "HTMLView",
      "description": "",
      "description_tooltip": null,
      "layout": "IPY_MODEL_0b1aab72f35d4f0f846d8c04e6061687",
      "placeholder": "​",
      "style": "IPY_MODEL_1eba99c9b309469188c7972829dbd93a",
      "value": " 273M/273M [00:00&lt;00:00, 324MB/s]"
     }
    },
    "e3ac99a63dca4ce5843ac77e37a4317d": {
     "model_module": "@jupyter-widgets/base",
     "model_name": "LayoutModel",
     "model_module_version": "1.2.0",
     "state": {
      "_model_module": "@jupyter-widgets/base",
      "_model_module_version": "1.2.0",
      "_model_name": "LayoutModel",
      "_view_count": null,
      "_view_module": "@jupyter-widgets/base",
      "_view_module_version": "1.2.0",
      "_view_name": "LayoutView",
      "align_content": null,
      "align_items": null,
      "align_self": null,
      "border": null,
      "bottom": null,
      "display": null,
      "flex": null,
      "flex_flow": null,
      "grid_area": null,
      "grid_auto_columns": null,
      "grid_auto_flow": null,
      "grid_auto_rows": null,
      "grid_column": null,
      "grid_gap": null,
      "grid_row": null,
      "grid_template_areas": null,
      "grid_template_columns": null,
      "grid_template_rows": null,
      "height": null,
      "justify_content": null,
      "justify_items": null,
      "left": null,
      "margin": null,
      "max_height": null,
      "max_width": null,
      "min_height": null,
      "min_width": null,
      "object_fit": null,
      "object_position": null,
      "order": null,
      "overflow": null,
      "overflow_x": null,
      "overflow_y": null,
      "padding": null,
      "right": null,
      "top": null,
      "visibility": null,
      "width": null
     }
    },
    "639e0d5839aa4fa481b18a6d71a89031": {
     "model_module": "@jupyter-widgets/base",
     "model_name": "LayoutModel",
     "model_module_version": "1.2.0",
     "state": {
      "_model_module": "@jupyter-widgets/base",
      "_model_module_version": "1.2.0",
      "_model_name": "LayoutModel",
      "_view_count": null,
      "_view_module": "@jupyter-widgets/base",
      "_view_module_version": "1.2.0",
      "_view_name": "LayoutView",
      "align_content": null,
      "align_items": null,
      "align_self": null,
      "border": null,
      "bottom": null,
      "display": null,
      "flex": null,
      "flex_flow": null,
      "grid_area": null,
      "grid_auto_columns": null,
      "grid_auto_flow": null,
      "grid_auto_rows": null,
      "grid_column": null,
      "grid_gap": null,
      "grid_row": null,
      "grid_template_areas": null,
      "grid_template_columns": null,
      "grid_template_rows": null,
      "height": null,
      "justify_content": null,
      "justify_items": null,
      "left": null,
      "margin": null,
      "max_height": null,
      "max_width": null,
      "min_height": null,
      "min_width": null,
      "object_fit": null,
      "object_position": null,
      "order": null,
      "overflow": null,
      "overflow_x": null,
      "overflow_y": null,
      "padding": null,
      "right": null,
      "top": null,
      "visibility": null,
      "width": null
     }
    },
    "644f173235004c97985e3c7eb46318a3": {
     "model_module": "@jupyter-widgets/controls",
     "model_name": "DescriptionStyleModel",
     "model_module_version": "1.5.0",
     "state": {
      "_model_module": "@jupyter-widgets/controls",
      "_model_module_version": "1.5.0",
      "_model_name": "DescriptionStyleModel",
      "_view_count": null,
      "_view_module": "@jupyter-widgets/base",
      "_view_module_version": "1.2.0",
      "_view_name": "StyleView",
      "description_width": ""
     }
    },
    "c858ac9569164be691f45d3122e01766": {
     "model_module": "@jupyter-widgets/base",
     "model_name": "LayoutModel",
     "model_module_version": "1.2.0",
     "state": {
      "_model_module": "@jupyter-widgets/base",
      "_model_module_version": "1.2.0",
      "_model_name": "LayoutModel",
      "_view_count": null,
      "_view_module": "@jupyter-widgets/base",
      "_view_module_version": "1.2.0",
      "_view_name": "LayoutView",
      "align_content": null,
      "align_items": null,
      "align_self": null,
      "border": null,
      "bottom": null,
      "display": null,
      "flex": null,
      "flex_flow": null,
      "grid_area": null,
      "grid_auto_columns": null,
      "grid_auto_flow": null,
      "grid_auto_rows": null,
      "grid_column": null,
      "grid_gap": null,
      "grid_row": null,
      "grid_template_areas": null,
      "grid_template_columns": null,
      "grid_template_rows": null,
      "height": null,
      "justify_content": null,
      "justify_items": null,
      "left": null,
      "margin": null,
      "max_height": null,
      "max_width": null,
      "min_height": null,
      "min_width": null,
      "object_fit": null,
      "object_position": null,
      "order": null,
      "overflow": null,
      "overflow_x": null,
      "overflow_y": null,
      "padding": null,
      "right": null,
      "top": null,
      "visibility": null,
      "width": null
     }
    },
    "82eac847c8564204a1578e0fbd261712": {
     "model_module": "@jupyter-widgets/controls",
     "model_name": "ProgressStyleModel",
     "model_module_version": "1.5.0",
     "state": {
      "_model_module": "@jupyter-widgets/controls",
      "_model_module_version": "1.5.0",
      "_model_name": "ProgressStyleModel",
      "_view_count": null,
      "_view_module": "@jupyter-widgets/base",
      "_view_module_version": "1.2.0",
      "_view_name": "StyleView",
      "bar_color": null,
      "description_width": ""
     }
    },
    "0b1aab72f35d4f0f846d8c04e6061687": {
     "model_module": "@jupyter-widgets/base",
     "model_name": "LayoutModel",
     "model_module_version": "1.2.0",
     "state": {
      "_model_module": "@jupyter-widgets/base",
      "_model_module_version": "1.2.0",
      "_model_name": "LayoutModel",
      "_view_count": null,
      "_view_module": "@jupyter-widgets/base",
      "_view_module_version": "1.2.0",
      "_view_name": "LayoutView",
      "align_content": null,
      "align_items": null,
      "align_self": null,
      "border": null,
      "bottom": null,
      "display": null,
      "flex": null,
      "flex_flow": null,
      "grid_area": null,
      "grid_auto_columns": null,
      "grid_auto_flow": null,
      "grid_auto_rows": null,
      "grid_column": null,
      "grid_gap": null,
      "grid_row": null,
      "grid_template_areas": null,
      "grid_template_columns": null,
      "grid_template_rows": null,
      "height": null,
      "justify_content": null,
      "justify_items": null,
      "left": null,
      "margin": null,
      "max_height": null,
      "max_width": null,
      "min_height": null,
      "min_width": null,
      "object_fit": null,
      "object_position": null,
      "order": null,
      "overflow": null,
      "overflow_x": null,
      "overflow_y": null,
      "padding": null,
      "right": null,
      "top": null,
      "visibility": null,
      "width": null
     }
    },
    "1eba99c9b309469188c7972829dbd93a": {
     "model_module": "@jupyter-widgets/controls",
     "model_name": "DescriptionStyleModel",
     "model_module_version": "1.5.0",
     "state": {
      "_model_module": "@jupyter-widgets/controls",
      "_model_module_version": "1.5.0",
      "_model_name": "DescriptionStyleModel",
      "_view_count": null,
      "_view_module": "@jupyter-widgets/base",
      "_view_module_version": "1.2.0",
      "_view_name": "StyleView",
      "description_width": ""
     }
    }
   }
  }
 },
 "nbformat_minor": 0,
 "nbformat": 4,
 "cells": [
  {
   "metadata": {},
   "cell_type": "markdown",
   "source": [
    "---\n",
    "title: \"Predicting reply under comment with LLM\"\n",
    "date: 2024/05/21\n",
    "date-modified: 2024/08/24\n",
    "description: \"Finetuning of Camembert on predicting, using a Le Soleil Facebook post comment as input, whether it will receive a response or not.\"\n",
    "categories:\n",
    "  - Tutorial\n",
    "format: \n",
    "  html:\n",
    "    code-fold: true\n",
    "jupyter: python3\n",
    "---"
   ]
  },
  {
   "cell_type": "markdown",
   "source": [
    "## Context\n",
    "\n",
    "This project originally started as a school assignment for Big Data class. The notebook presented here demonstrates the use of a large language model (LLM) to tackle a binary classification problem. Specifically, our objective is to predict whether a comment will receive a response or not.\n",
    "\n",
    "To achieve this, we use an enriched dataset compiled from comments on Le Soleil's Facebook posts. I will also share a separate notebook detailing the process of building this dataset. Additionally, I plan to publish another post explaining how to utilize simple feedforward neural networks or statistical models based on various comment features or the comment text itself.\n",
    "\n",
    "Let's dive in!"
   ],
   "metadata": {
    "id": "ypmjmuS5HnLt"
   }
  },
  {
   "cell_type": "markdown",
   "source": "## Dependence",
   "metadata": {
    "id": "5jwV_FkbHMag"
   }
  },
  {
   "metadata": {},
   "cell_type": "markdown",
   "source": "I prefer to set aside the cell that install system dependency. It always produces a lot of useless gx3di3ce... You get it, right ?"
  },
  {
   "cell_type": "code",
   "source": [
    "!pip install torchsampler\n",
    "!pip install sacremoses"
   ],
   "metadata": {
    "execution": {
     "iopub.status.busy": "2024-05-16T22:47:58.621291Z",
     "iopub.execute_input": "2024-05-16T22:47:58.621693Z",
     "iopub.status.idle": "2024-05-16T22:48:24.158787Z",
     "shell.execute_reply.started": "2024-05-16T22:47:58.621662Z",
     "shell.execute_reply": "2024-05-16T22:48:24.157602Z"
    },
    "trusted": true,
    "id": "TM5hdwX4HIMb",
    "collapsed": true
   },
   "execution_count": null,
   "outputs": []
  },
  {
   "metadata": {},
   "cell_type": "markdown",
   "source": "Now, let's import some packages to have fun !"
  },
  {
   "cell_type": "code",
   "source": [
    "import transformers, torch\n",
    "import pandas as pd\n",
    "import matplotlib.pyplot as plt\n",
    "import multiprocessing as mp\n",
    "import time\n",
    "\n",
    "from transformers import AutoModelForSequenceClassification, AutoTokenizer\n",
    "from torch.utils.data import Dataset\n",
    "from sklearn.metrics import accuracy_score, precision_score, recall_score, confusion_matrix\n",
    "from torchsampler import ImbalancedDatasetSampler\n",
    "from sklearn.model_selection import train_test_split\n",
    "from tqdm import tqdm\n",
    "from torch.optim.lr_scheduler import ReduceLROnPlateau\n",
    "from IPython.display import clear_output\n",
    "\n",
    "# warnings.filterwarnings('ignore')\n",
    "device = 'cuda' if torch.cuda.is_available() else 'cpu'\n",
    "mp.cpu_count() # used to set the number of num_worker for Dataloader, usually the half of it "
   ],
   "metadata": {
    "execution": {
     "iopub.status.busy": "2024-05-16T22:48:24.161082Z",
     "iopub.execute_input": "2024-05-16T22:48:24.161438Z",
     "iopub.status.idle": "2024-05-16T22:48:24.487077Z",
     "shell.execute_reply.started": "2024-05-16T22:48:24.161404Z",
     "shell.execute_reply": "2024-05-16T22:48:24.486273Z"
    },
    "trusted": true,
    "id": "rYPUVCM_HIMe"
   },
   "execution_count": 2,
   "outputs": []
  },
  {
   "metadata": {},
   "cell_type": "markdown",
   "source": "And since I use Google colab, I mount my drive to load the datasets later."
  },
  {
   "cell_type": "code",
   "source": [
    "#| code-fold: false\n",
    "\n",
    "# only if you are using Google colab of course...\n",
    "from google.colab import drive\n",
    "drive.mount('/content/drive')"
   ],
   "metadata": {
    "colab": {
     "base_uri": "https://localhost:8080/"
    },
    "id": "NJQkrM-DcrHl",
    "outputId": "aac39525-ff34-4217-825e-b73595c599ff"
   },
   "execution_count": 3,
   "outputs": [
    {
     "output_type": "stream",
     "name": "stdout",
     "text": [
      "Mounted at /content/drive\n"
     ]
    }
   ]
  },
  {
   "cell_type": "markdown",
   "source": "## About our datasets",
   "metadata": {
    "id": "p7Km4Z46R-to"
   }
  },
  {
   "cell_type": "markdown",
   "source": [
    "In this section, we will explore the dataset used for our binary classification problem. The dataset has been divided into training and testing sets, with 70% of the data allocated for training and the remaining 30% for testing. This split ensures that we have a robust training set to build our model while retaining a sufficient portion of the data for evaluating the model's performance. \n",
    "\n",
    "Let's load the train and the test sets."
   ],
   "metadata": {
    "id": "pyb0XWLeHVhg"
   }
  },
  {
   "metadata": {},
   "cell_type": "code",
   "outputs": [],
   "execution_count": null,
   "source": [
    "#| code-fold: false\n",
    "\n",
    "dirpath = '/content/drive/MyDrive/DataSets/big_data/datasets' # specify here the path to the dataset\n",
    "train = pd.read_csv(dirpath + '/split/train_dataset.csv', index_col=0)\n",
    "test = pd.read_csv(dirpath + '/split/valid_dataset.csv', index_col=0)"
   ]
  },
  {
   "cell_type": "markdown",
   "source": "A few statistics about our dataset. First of all, it contains almost a million rows. ",
   "metadata": {
    "id": "eEbJRERxSo-e"
   }
  },
  {
   "cell_type": "code",
   "source": [
    "dataset = pd.concat([train, test])\n",
    "print(f'Dataset shape: {dataset.shape}')"
   ],
   "metadata": {
    "colab": {
     "base_uri": "https://localhost:8080/"
    },
    "id": "pP9aSRuGYG6A",
    "outputId": "5e429f03-52cb-4fd3-8666-97f14baf1375"
   },
   "execution_count": 5,
   "outputs": [
    {
     "output_type": "stream",
     "name": "stdout",
     "text": [
      "Dataset shape: (935698, 68)\n"
     ]
    }
   ]
  },
  {
   "cell_type": "markdown",
   "source": "Secondly, the dataset is highly unbalanced. The following graph shows that there are only ~13% of comments with replies, by which I mean that these comments have received at least one comment.",
   "metadata": {
    "id": "silAR6gxXw-3"
   }
  },
  {
   "cell_type": "code",
   "source": [
    "dataset['target'].value_counts(normalize=True)"
   ],
   "metadata": {
    "colab": {
     "base_uri": "https://localhost:8080/"
    },
    "id": "ChA_skiBeVCn",
    "outputId": "18b63c43-03e4-4e3b-f0e5-7ed81288739d"
   },
   "execution_count": 6,
   "outputs": [
    {
     "output_type": "execute_result",
     "data": {
      "text/plain": [
       "target\n",
       "False    0.876036\n",
       "True     0.123964\n",
       "Name: proportion, dtype: float64"
      ]
     },
     "metadata": {},
     "execution_count": 6
    }
   ]
  },
  {
   "cell_type": "code",
   "source": [
    "#| label: fig-cap-margin0\n",
    "#| fig-cap: \"Barchart of the count of each class\"\n",
    "\n",
    "dataset['target'].value_counts().plot(kind='bar')"
   ],
   "metadata": {
    "colab": {
     "base_uri": "https://localhost:8080/",
     "height": 0
    },
    "id": "wCKVxR1BXEVD",
    "outputId": "85557c40-d918-45eb-f3f8-813cf72c9a94"
   },
   "execution_count": 7,
   "outputs": [
    {
     "output_type": "execute_result",
     "data": {
      "text/plain": [
       "<Axes: xlabel='target'>"
      ]
     },
     "metadata": {},
     "execution_count": 7
    },
    {
     "output_type": "display_data",
     "data": {
      "text/plain": [
       "<Figure size 640x480 with 1 Axes>"
      ],
      "image/png": "[encoded data removed]"
     },
     "metadata": {}
    }
   ]
  },
  {
   "cell_type": "markdown",
   "source": [
    "We have then two significant issues. Firstly, running the training on the entire dataset would be extremely time-consuming, even with substantial computational resources. Secondly, our dataset is unbalanced, which presents a challenge for accurate model training. \n",
    "\n",
    "To address these issues, I opted for undersampling, ensuring an equal number of items from each class. This approach allows us to run our experiments more efficiently and mitigates the problem of data imbalance. Later in the notebook, we will explore the impact of the amount of data used on the model's performance."
   ],
   "metadata": {
    "id": "sYqnlRdfUndF"
   }
  },
  {
   "cell_type": "markdown",
   "source": "## Class and functions",
   "metadata": {
    "id": "4OkAY3FzHfih"
   }
  },
  {
   "metadata": {},
   "cell_type": "markdown",
   "source": "I write the CommentDataset class as a custom dataset designed for handling text data. It inherits from the Dataset class provided by PyTorch. This class is specifically tailored for tokenizing and preparing text data along with their corresponding labels for use in a model."
  },
  {
   "cell_type": "code",
   "source": [
    "class CommentDataset(Dataset):\n",
    "    def __init__(self, message, labels, tokenizer):\n",
    "        self.message = message\n",
    "        self.labels = labels\n",
    "        self.tokenizer = tokenizer\n",
    "\n",
    "    def get_labels(self):\n",
    "        return self.labels\n",
    "\n",
    "    def __len__(self):\n",
    "        return len(self.message)\n",
    "\n",
    "    def __getitem__(self, idx):\n",
    "        text = self.message[idx]\n",
    "        label = self.labels[idx]\n",
    "\n",
    "        inputs = self.tokenizer.encode_plus(text, None, add_special_tokens=True, padding='max_length', return_token_type_ids=True, truncation=True)\n",
    "\n",
    "        return {\n",
    "            'input_ids': torch.tensor(inputs['input_ids'], dtype=torch.long),\n",
    "            'attention_mask': torch.tensor(inputs['attention_mask'], dtype=torch.long),\n",
    "            'token_type_ids': torch.tensor(inputs[\"token_type_ids\"], dtype=torch.long),\n",
    "            'labels': torch.tensor(label, dtype=torch.float)\n",
    "        }"
   ],
   "metadata": {
    "execution": {
     "iopub.status.busy": "2024-05-16T22:48:47.461504Z",
     "iopub.execute_input": "2024-05-16T22:48:47.461808Z",
     "iopub.status.idle": "2024-05-16T22:48:47.470522Z",
     "shell.execute_reply.started": "2024-05-16T22:48:47.461784Z",
     "shell.execute_reply": "2024-05-16T22:48:47.469657Z"
    },
    "trusted": true,
    "id": "iXS8ZUD1HIMg"
   },
   "execution_count": 8,
   "outputs": []
  },
  {
   "metadata": {},
   "cell_type": "markdown",
   "source": "The `train_model` method is designed to train a machine learning model using a provided training and testing dataloader, while tracking various performance metrics such as loss, accuracy, precision, recall, and a custom F2 score across multiple epochs, and implementing early stopping based on validation performance. The `test_model` method evaluates the trained model on a validation dataset, computing and printing evaluation metrics to assess the model's performance."
  },
  {
   "cell_type": "code",
   "source": [
    "def train_model(model, train_dataloader, test_dataloader, history={}, num_epochs=5, lr=5e-5, early_stopping_patience=3, weight_decay=0.01):\n",
    "    device = torch.device(\"cuda\" if torch.cuda.is_available() else \"cpu\")\n",
    "    model.to(device)\n",
    "    optimizer = torch.optim.AdamW(model.parameters(), lr=lr, weight_decay=weight_decay)\n",
    "    scheduler = ReduceLROnPlateau(optimizer, mode='max', factor=0.1, patience=1)  # ReduceLROnPlateau scheduler\n",
    "    loss_fn = torch.nn.BCEWithLogitsLoss()  # Binary Cross-Entropy Loss\n",
    "\n",
    "    history['train_loss'] = []\n",
    "    history['train_accuracy'] = []\n",
    "    history['train_precision'] = []\n",
    "    history['train_recall'] = []\n",
    "    history['test_accuracy'] = []\n",
    "    history['test_precision'] = []\n",
    "    history['test_recall'] = []\n",
    "    history['epochs'] = []\n",
    "    history['test_loss'] = []\n",
    "    history['valid_score'] = []\n",
    "    best_valid_score = 0\n",
    "    early_stopping_counter = 0\n",
    "\n",
    "    for epoch in range(num_epochs):\n",
    "        model.train()\n",
    "        train_loss = 0.0\n",
    "        train_preds = []\n",
    "        train_labels = []\n",
    "\n",
    "        # Training loop\n",
    "        for _, batch in enumerate(tqdm(train_dataloader, desc=f'Epoch {epoch + 1}/{num_epochs}')):\n",
    "            optimizer.zero_grad()\n",
    "\n",
    "            input_ids = batch['input_ids'].to(device)\n",
    "            attention_mask = batch['attention_mask'].to(device)\n",
    "            token_type_ids = batch['token_type_ids'].to(device)\n",
    "            labels = batch['labels'].to(device)\n",
    "\n",
    "            outputs = model(input_ids, attention_mask=attention_mask, token_type_ids=token_type_ids)\n",
    "            logits = outputs.logits.squeeze(1)\n",
    "            loss = loss_fn(logits, labels)\n",
    "            loss.backward()\n",
    "            optimizer.step()\n",
    "\n",
    "            train_loss += loss.item()\n",
    "            train_preds.extend((logits > 0.5).int().tolist())\n",
    "            train_labels.extend(labels.tolist())\n",
    "\n",
    "        # Calculate metrics on training set\n",
    "        train_accuracy = accuracy_score(train_labels, train_preds)\n",
    "        train_precision = precision_score(train_labels, train_preds, average='binary')\n",
    "        train_recall = recall_score(train_labels, train_preds, average='binary')\n",
    "\n",
    "        # Evaluation loop\n",
    "        model.eval()\n",
    "        test_preds = []\n",
    "        test_labels = []\n",
    "        test_loss = 0.0\n",
    "\n",
    "        with torch.no_grad():\n",
    "            for batch in test_dataloader:\n",
    "\n",
    "                input_ids = batch['input_ids'].to(device)\n",
    "                attention_mask = batch['attention_mask'].to(device)\n",
    "                token_type_ids = batch['token_type_ids'].to(device)\n",
    "                labels = batch['labels'].to(device)\n",
    "                outputs = model(input_ids, attention_mask=attention_mask, token_type_ids=token_type_ids)\n",
    "                logits = outputs.logits.squeeze(1)\n",
    "                loss = loss_fn(logits, labels)\n",
    "\n",
    "                test_loss += loss.item()\n",
    "                test_preds.extend((logits > 0.5).int().tolist())\n",
    "                test_labels.extend(labels.tolist())\n",
    "\n",
    "        # Calculate metrics on test set\n",
    "        test_accuracy = accuracy_score(test_labels, test_preds)\n",
    "        test_precision = precision_score(test_labels, test_preds, average='binary')\n",
    "        test_recall = recall_score(test_labels, test_preds, average='binary')\n",
    "        tn, fp, fn, tp = confusion_matrix(test_labels, test_preds).ravel()\n",
    "        valid_score = (tp / (tp + fp + fn)) * 100\n",
    "\n",
    "        # Update learning rate scheduler\n",
    "        scheduler.step(valid_score)\n",
    "\n",
    "        history['epochs'].append(epoch + 1)\n",
    "\n",
    "        history['train_loss'].append(train_loss / len(train_dataloader))\n",
    "        history['train_accuracy'].append(train_accuracy)\n",
    "        history['train_precision'].append(train_precision)\n",
    "        history['train_recall'].append(train_recall)\n",
    "\n",
    "        history['test_loss'].append(test_loss / len(test_dataloader))\n",
    "        history['test_accuracy'].append(test_accuracy)\n",
    "        history['test_precision'].append(test_precision)\n",
    "        history['test_recall'].append(test_recall)\n",
    "        history['valid_score'].append(valid_score)\n",
    "\n",
    "        print(f\"Epoch {epoch + 1}/{num_epochs}:\")\n",
    "\n",
    "        print(f\"  Train Loss: {train_loss / len(train_dataloader)}\")\n",
    "        print(f\"  Test Loss: {test_loss / len(test_dataloader)}\")\n",
    "        print(f\"  Train Accuracy: {train_accuracy}\")\n",
    "        print(f\"  Train Precision: {train_precision}\")\n",
    "        print(f\"  Train Recall: {train_recall}\")\n",
    "\n",
    "        print(f\"  Test Accuracy: {test_accuracy}\")\n",
    "        print(f\"  Test Precision: {test_precision}\")\n",
    "        print(f\"  Test Recall: {test_recall}\")\n",
    "        print(f\"  Test F2: {valid_score}\")\n",
    "\n",
    "        # Early stopping\n",
    "        if valid_score > best_valid_score:\n",
    "            best_valid_score = valid_score\n",
    "            early_stopping_counter = 0\n",
    "        else:\n",
    "            early_stopping_counter += 1\n",
    "\n",
    "        if early_stopping_counter >= early_stopping_patience:\n",
    "            print(\"Early stopping triggered!\")\n",
    "            break\n",
    "\n",
    "def test_model(tokz, model, valid_data, history, device, bs = 16):\n",
    "    model.eval()\n",
    "    test_preds = []\n",
    "    test_labels = []\n",
    "    test_loss = 0.0\n",
    "\n",
    "    valid_dataset = CommentDataset(valid_data[0].to_numpy(), valid_data[1].astype(int).to_numpy(), tokz)\n",
    "    test_dataloader = torch.utils.data.DataLoader(valid_dataset, batch_size=bs, shuffle=True)\n",
    "    loss_fn = torch.nn.BCEWithLogitsLoss()  # Binary Cross-Entropy Loss\n",
    "\n",
    "    with torch.no_grad():\n",
    "        for batch in test_dataloader:\n",
    "            input_ids = batch['input_ids'].to(device)\n",
    "            attention_mask = batch['attention_mask'].to(device)\n",
    "            token_type_ids = batch['token_type_ids'].to(device)\n",
    "            labels = batch['labels'].to(device)\n",
    "            outputs = model(input_ids, attention_mask=attention_mask, token_type_ids=token_type_ids)\n",
    "            logits = outputs.logits.squeeze(1)\n",
    "            loss = loss_fn(logits, labels)\n",
    "\n",
    "            test_loss += loss.item()\n",
    "            test_preds.extend((logits > 0.5).int().tolist())\n",
    "            test_labels.extend(labels.tolist())\n",
    "\n",
    "    test_accuracy = accuracy_score(test_labels, test_preds)\n",
    "    test_precision = precision_score(test_labels, test_preds)\n",
    "    test_recall = recall_score(test_labels, test_preds)\n",
    "    tn, fp, fn, tp = confusion_matrix(test_labels, test_preds).ravel()\n",
    "    history['valid_score'] = (tp / (tp + fp + fn)) * 100\n",
    "\n",
    "    print(\"Test Metrics:\")\n",
    "    print(f\"  Eval Accuracy: {test_accuracy}\")\n",
    "    print(f\"  Eval Precision: {test_precision}\")\n",
    "    print(f\"  Eval Recall: {test_recall}\")\n",
    "    print(f\"  Eval F2: {history['valid_score']}\")"
   ],
   "metadata": {
    "execution": {
     "iopub.status.busy": "2024-05-16T22:48:47.471853Z",
     "iopub.execute_input": "2024-05-16T22:48:47.472149Z",
     "iopub.status.idle": "2024-05-16T22:48:47.496708Z",
     "shell.execute_reply.started": "2024-05-16T22:48:47.472105Z",
     "shell.execute_reply": "2024-05-16T22:48:47.495859Z"
    },
    "trusted": true,
    "id": "nB22VI12HIMg"
   },
   "execution_count": 19,
   "outputs": []
  },
  {
   "metadata": {},
   "cell_type": "markdown",
   "source": "The `plot_history` method visualizes the training and testing metrics (loss, accuracy, precision, recall, and F2 score) over epochs using matplotlib. The `evaluate_model` function assesses the model by optionally plotting the training history and running the `test_model` function for evaluation metrics. The `get_loader` function prepares the data loaders for training and testing datasets, including optional under-sampling, and sets up the tokenizer and model for sequence classification tasks. The `equal_class_sampling` method ensures balanced class distribution by sampling an equal number of instances from each class in the dataset."
  },
  {
   "cell_type": "code",
   "source": [
    "def plot_history(history):\n",
    "    plt.figure(figsize=(17, 6))\n",
    "\n",
    "    epochs = history['epochs']\n",
    "    train_losses = history['train_loss']\n",
    "    test_loss = history['test_loss']\n",
    "    train_accuracies = history['train_accuracy']\n",
    "    test_accuracies = history['test_accuracy']\n",
    "    train_precisions = history['train_precision']\n",
    "    test_precisions = history['test_precision']\n",
    "    train_recall = history['train_recall']\n",
    "    test_recall = history['test_recall']\n",
    "    valid_score = history['valid_score']\n",
    "\n",
    "    plt.subplot(1, 5, 1)\n",
    "    plt.plot(epochs, train_losses, label='Training Loss')\n",
    "    plt.plot(epochs, test_loss, label='Test Loss')\n",
    "    plt.xlabel('Epochs')\n",
    "    plt.ylabel('Loss')\n",
    "    plt.title('Training Loss')\n",
    "\n",
    "    plt.subplot(1, 5, 2)\n",
    "    plt.plot(epochs, train_accuracies, label='Training Accuracy')\n",
    "    plt.plot(epochs, test_accuracies, label='Test Accuracy')\n",
    "    plt.xlabel('Epochs')\n",
    "    plt.ylabel('Accuracy')\n",
    "    plt.title('Accuracy')\n",
    "    plt.legend()\n",
    "\n",
    "    plt.subplot(1, 5, 3)\n",
    "    plt.plot(epochs, train_precisions, label='Training Precision')\n",
    "    plt.plot(epochs, test_precisions, label='Test Precision')\n",
    "    plt.xlabel('Epochs')\n",
    "    plt.ylabel('Precision')\n",
    "    plt.title('Precision')\n",
    "    plt.legend()\n",
    "\n",
    "    plt.subplot(1, 5, 4)\n",
    "    plt.plot(epochs, train_recall, label='Training Recall')\n",
    "    plt.plot(epochs, test_recall, label='Test Recall')\n",
    "    plt.xlabel('Epochs')\n",
    "    plt.ylabel('Recall')\n",
    "    plt.title('Recall')\n",
    "    plt.legend()\n",
    "\n",
    "    plt.subplot(1, 5, 5)\n",
    "    plt.plot(epochs, valid_score, label='Training F2')\n",
    "    plt.xlabel('Epochs')\n",
    "    plt.ylabel('F2')\n",
    "    plt.title('F2')\n",
    "    plt.legend()\n",
    "\n",
    "    plt.tight_layout()\n",
    "    plt.show()\n",
    "    \n",
    "def evaluate_model(tokz, model, valid_data, history, device, bs = 16, plot_train=True):\n",
    "    if plot_train:\n",
    "        plot_history(history)\n",
    "    test_model(tokz, model, valid_data, history, device, bs = bs)\n",
    "    \n",
    "def get_loader(model_nm, dataset, bs = 100, under_sample=True, num_class = 1, use_pad_token=True, use_special_pad_token=False, num_workers=2):\n",
    "    X_train, y_train, X_test, y_test = dataset['X_train'], dataset['y_train'], dataset['X_test'], dataset['y_test']\n",
    "    tokz = AutoTokenizer.from_pretrained(model_nm)\n",
    "\n",
    "    model = AutoModelForSequenceClassification.from_pretrained(model_nm, num_labels = num_class)\n",
    "\n",
    "    if len(X_train) == 0:\n",
    "      return model, tokz, None, None\n",
    "\n",
    "    if use_pad_token:\n",
    "        tokz.pad_token = tokz.eos_token\n",
    "    if use_special_pad_token:\n",
    "        tokz.add_special_tokens({'pad_token': '[PAD]'})\n",
    "\n",
    "    model.resize_token_embeddings(len(tokz))\n",
    "\n",
    "    train_dataset = CommentDataset(X_train.to_numpy(), y_train.astype(int).to_numpy(), tokz)\n",
    "    test_dataset = CommentDataset(X_test.to_numpy(), y_test.astype(int).to_numpy(), tokz)\n",
    "\n",
    "    if under_sample:\n",
    "        train_loader = torch.utils.data.DataLoader(train_dataset, sampler=ImbalancedDatasetSampler(train_dataset), batch_size=bs, num_workers=num_workers, pin_memory=True)\n",
    "        test_loader = torch.utils.data.DataLoader(test_dataset, shuffle=True, batch_size=bs, num_workers=num_workers, pin_memory=True)\n",
    "    else:\n",
    "        train_loader = torch.utils.data.DataLoader(train_dataset, batch_size=bs, shuffle=True, num_workers=num_workers, pin_memory=True)\n",
    "        test_loader = torch.utils.data.DataLoader(test_dataset, batch_size=bs, shuffle=True, num_workers=num_workers, pin_memory=True)\n",
    "\n",
    "    return model, tokz, train_loader, test_loader\n",
    "\n",
    "def equal_class_sampling(input_features, target_labels, num_samples):\n",
    "    num_classes = len(target_labels.unique())\n",
    "    num_samples_per_class = num_samples // num_classes\n",
    "    dataset = pd.DataFrame({'input': input_features, 'target': target_labels})\n",
    "    grouped = dataset.groupby(['target'])\n",
    "    sampled_elements = grouped.apply(lambda x: x.sample(min(num_samples_per_class, len(x))))\n",
    "    return sampled_elements['input'], sampled_elements['target']"
   ],
   "metadata": {
    "execution": {
     "iopub.status.busy": "2024-05-17T00:15:24.440839Z",
     "iopub.execute_input": "2024-05-17T00:15:24.441301Z",
     "iopub.status.idle": "2024-05-17T00:15:24.453534Z",
     "shell.execute_reply.started": "2024-05-17T00:15:24.441258Z",
     "shell.execute_reply": "2024-05-17T00:15:24.452391Z"
    },
    "trusted": true,
    "id": "mpexDZ-zHIMk"
   },
   "execution_count": 13,
   "outputs": []
  },
  {
   "cell_type": "markdown",
   "source": [
    "## Training"
   ],
   "metadata": {
    "id": "6ke6SdfyHkoy"
   }
  },
  {
   "cell_type": "markdown",
   "source": [
    "### Evaluations\n",
    "\n",
    "To evaluate our model, we will primarily use recall and a custom metric that we will call F2. Recall measures the ability of the model to correctly identify all relevant instances (true positives) from the dataset and is calculated as TP/(TP + FN), where TP stands for true positives and FN stands for false negatives.\n",
    "\n",
    "The custom metric, F2, is designed to provide a more comprehensive evaluation of the model's performance by balancing the detection of the positive class and minimizing errors. The F2 score is calculated as TP/(TP + FN + FP), where FP stands for false positives. This metric helps evaluate the model's capacity to detect the positive class correctly while accounting for both false negatives and false positives. By considering both types of errors, the F2 metric ensures that the model is not only identifying positive instances accurately but also minimizing the incorrect classification of negative instances as positive. This balanced approach provides a more nuanced assessment of the model's overall effectiveness.\n",
    "\n",
    "---"
   ],
   "metadata": {
    "id": "AMyabLa6Yhli"
   }
  },
  {
   "cell_type": "markdown",
   "source": "### Modeling",
   "metadata": {
    "id": "GKmJ1x2wYpqR"
   }
  },
  {
   "cell_type": "markdown",
   "source": "For simplicity's sake, I'll use the distill version of Camembert model here, but you're free to use any of the models below.",
   "metadata": {
    "id": "l4raFx6ta-Oz"
   }
  },
  {
   "cell_type": "code",
   "source": [
    "#| code-fold: false\n",
    "\n",
    "models = {\n",
    "    'bert': \"bert-base-uncased\",\n",
    "    'gpt': \"distilgpt2\",\n",
    "    'flau': \"flaubert/flaubert_base_uncased\",\n",
    "    'cmb': \"cmarkea/distilcamembert-base\",\n",
    "}"
   ],
   "metadata": {
    "execution": {
     "iopub.status.busy": "2024-05-16T22:48:47.588511Z",
     "iopub.execute_input": "2024-05-16T22:48:47.588779Z",
     "iopub.status.idle": "2024-05-16T22:48:47.597717Z",
     "shell.execute_reply.started": "2024-05-16T22:48:47.588757Z",
     "shell.execute_reply": "2024-05-16T22:48:47.596859Z"
    },
    "trusted": true,
    "id": "3mrxSpG9HIMn"
   },
   "execution_count": 15,
   "outputs": []
  },
  {
   "metadata": {},
   "cell_type": "markdown",
   "source": "### Fine tuning"
  },
  {
   "metadata": {},
   "cell_type": "markdown",
   "source": [
    "The next code might look a bit confusing at first, but let's break it down step by step.\n",
    " \n",
    "What we're doing here is creating smaller subsets from our original training and test sets to build training, validation and test samples."
   ]
  },
  {
   "metadata": {},
   "cell_type": "code",
   "outputs": [],
   "execution_count": null,
   "source": [
    "#| code-fold: false\n",
    "\n",
    "# Grab the 'message' and 'target' columns from the training set and store them in X_train and y_train\n",
    "X_train, y_train = train['message'], train['target']"
   ]
  },
  {
   "metadata": {},
   "cell_type": "markdown",
   "source": "Next, we split off a small portion of the original test set to use as our validation set. This is like keeping a small piece of pie aside before sharing the rest."
  },
  {
   "metadata": {},
   "cell_type": "code",
   "outputs": [
    {
     "output_type": "execute_result",
     "data": {
      "text/plain": [
       "((9357,), (177783,), (9357,), (177783,))"
      ]
     },
     "metadata": {},
     "execution_count": 16
    }
   ],
   "execution_count": 16,
   "source": [
    "#| code-fold: false\n",
    "\n",
    "X_valid_sample, X_valid, y_valid_sample, y_valid = train_test_split(test['message'], test['target'], test_size=0.95, random_state=42)\n",
    "X_valid_sample.shape, X_valid.shape, y_valid_sample.shape, y_valid.shape"
   ]
  },
  {
   "metadata": {},
   "cell_type": "markdown",
   "source": "Then, we balance our training data. Imagine we have 6000 rows, and we want to make sure we have an equal number of positive and negative samples—3000 of each."
  },
  {
   "metadata": {},
   "cell_type": "code",
   "outputs": [],
   "execution_count": null,
   "source": [
    "#| code-fold: false\n",
    "\n",
    "X_train_sample, y_train_sample = equal_class_sampling(X_train, y_train, 6000)"
   ]
  },
  {
   "metadata": {},
   "cell_type": "markdown",
   "source": "Finally, we take another small slice of the test set to build our final test sample. Think of this as taking a tiny bit more of that pie for a taste test."
  },
  {
   "cell_type": "code",
   "source": [
    "#| code-fold: false\n",
    "\n",
    "# Split the remaining validation set to create a small test sample (2% of X_valid and y_valid)\n",
    "_, X_test_sample, _, y_test_sample = train_test_split(X_valid, y_valid, test_size=0.02, random_state=42)\n",
    "X_test_sample.shape"
   ],
   "metadata": {
    "colab": {
     "base_uri": "https://localhost:8080/"
    },
    "id": "YeMvv-ABmlCC",
    "outputId": "936648c1-d053-418c-9b07-db17a7070612"
   },
   "execution_count": 27,
   "outputs": [
    {
     "output_type": "execute_result",
     "data": {
      "text/plain": [
       "(3556,)"
      ]
     },
     "metadata": {},
     "execution_count": 27
    }
   ]
  },
  {
   "metadata": {},
   "cell_type": "markdown",
   "source": [
    "By doing this, we ensure our model has balanced and representative data for training, validation, and final testing.\n",
    "\n",
    "Now, we train, we validate and evaluate the model on the test set. "
   ]
  },
  {
   "cell_type": "code",
   "source": [
    "#| label: fig-cap-margin\n",
    "#| fig-cap: \"Series of graphs depicting the performance metrics of the model. The metrics include Training Loss, Accuracy, Precision, Recall, and F2 score for both training and testing data.\"\n",
    "\n",
    "\n",
    "history = {}  # Initialize an empty dictionary to store training and evaluation history.\n",
    "BATCH_SIZE = 16  # Define the batch size for data loaders.\n",
    "LEARNING_RATE = 1e-4  # Set the learning rate for the optimizer.\n",
    "weight_decay = 1e-2  # Set the weight decay (L2 regularization) for the optimizer.\n",
    "EPOCHS = 10  # Set the number of epochs for training.\n",
    "\n",
    "# Prepare the dataset dictionary with training and testing samples.\n",
    "data = {'X_train': X_train_sample, 'y_train': y_train_sample, 'X_test': X_test_sample, 'y_test': y_test_sample}\n",
    "\n",
    "# Get the model, tokenizer, training data loader, and testing data loader.\n",
    "model, tokz, train_loader, test_loader = get_loader(models['cmb'], data, bs=BATCH_SIZE, use_special_pad_token=True, num_workers=8)\n",
    "\n",
    "model.to(device)  # Move the model to the specified device (CPU or GPU).\n",
    "\n",
    "start_time = time.time()  # Record the start time for training.\n",
    "train_model(model, train_loader, test_loader, history, num_epochs=EPOCHS, lr=LEARNING_RATE, early_stopping_patience=2, weight_decay=weight_decay)  # Train the model.\n",
    "end_time = time.time()  # Record the end time for training.\n",
    "execution_time = end_time - start_time  # Calculate the execution time for training.\n",
    "\n",
    "clear_output()  # Clear the output (useful in Jupyter notebooks to clear previous outputs).\n",
    "print(\"Execution time:\", execution_time, \"seconds\")  # Print the execution time for training.\n",
    "\n",
    "start_time = time.time()  # Record the start time for evaluation.\n",
    "# Evaluate the model on the validation dataset and optionally plot the training history.\n",
    "evaluate_model(tokz, model, (X_valid_sample, y_valid_sample), history, device, bs = BATCH_SIZE * 2, plot_train=True)\n",
    "end_time = time.time()  # Record the end time for evaluation.\n",
    "execution_time = end_time - start_time  # Calculate the execution time for evaluation.\n",
    "print(\"Execution time:\", execution_time, \"seconds\")  # Print the execution time for evaluation."
   ],
   "metadata": {
    "colab": {
     "base_uri": "https://localhost:8080/",
     "height": 570
    },
    "id": "umygNmsEmO2k",
    "outputId": "04235890-1b1e-407a-ea6c-50bea8b53f85"
   },
   "execution_count": 28,
   "outputs": [
    {
     "output_type": "stream",
     "name": "stdout",
     "text": [
      "Execution time: 363.3319444656372 seconds\n"
     ]
    },
    {
     "output_type": "display_data",
     "data": {
      "text/plain": [
       "<Figure size 1700x600 with 5 Axes>"
      ],
      "image/png": "[encoded data removed]"
     },
     "metadata": {}
    },
    {
     "output_type": "stream",
     "name": "stdout",
     "text": [
      "Test Metrics:\n",
      "  Eval Accuracy: 0.6475366036122688\n",
      "  Eval Precision: 0.23312101910828026\n",
      "  Eval Recall: 0.7605985037406484\n",
      "  Eval F2: 21.7184903868977\n",
      "Execution time: 84.7105667591095 seconds\n"
     ]
    }
   ]
  },
  {
   "metadata": {},
   "cell_type": "markdown",
   "source": [
    "Based on the performance of the model on two epochs, we can make the following analysis:\n",
    "\n",
    "1. **Training Loss**: Decreases from approximately 0.55 to 0.45, indicating improved performance during training.\n",
    "2. **Accuracy**: Shows a significant increase for training accuracy from about 0.70 to 0.78, while test accuracy slightly improves from around 0.62 to 0.64.\n",
    "3. **Precision**: Training precision rises from about 0.75 to 0.80, whereas test precision remains almost constant at around 0.21.\n",
    "4. **Recall**: Training recall increases from 0.60 to 0.75, while test recall decreases from 0.85 to 0.70, suggesting potential overfitting.\n",
    "5. **F2**: Indicates a decline in the F2 score from approximately 21.2 to 20.2, which means that the model is not generalizing from the training data to the test data.\n",
    "\n",
    "###### Test Metrics:\n",
    "1. **Eval Accuracy**: 0.6475, which indicates the model's ability to correctly predict test data is moderate but lower compared to training accuracy.\n",
    "2. **Eval Precision**: 0.2331, which is significantly lower than the training precision, suggesting the model struggles with false positives on the test set.\n",
    "3. **Eval Recall**: 0.7606, which is relatively high and close to the training recall, showing the model still performs well in identifying most positive instances on the test set.\n",
    "4. **Eval F2**: 21.7185, which remains high, indicating that despite high recall, the model struggles with false positives.\n",
    "\n",
    "###### Conclusion:\n",
    "- **Overfitting**: The discrepancy between training and test precision suggests overfitting. The model performs well on the training data but struggles with generalization, leading to lower performance on unseen data. \n",
    "- **F2 score**: The model prioritizes recall over precision. This is evident from the high recall but low precision on the test set. This behavior is further reflected in the F2 score, which is low, indicating many false positives.\n",
    "\n",
    "This analysis suggest that there is a problem with our model, because we need a model that should perform well on unseen data with low errors.\n",
    "\n",
    "###### Why is this important?\n",
    "Well, imagine that we will deploy our model in a real-world application. We don't want to miss comments that might receive a response because we could use them to increase traffic on our site or social media. In that case, a model that detects positive instances well with minimal false positives is acceptable. However, our model currently has many false positives, which can be problematic.\n",
    "\n",
    "###### Practical Implications:\n",
    "- Business Impact: If the model is used in an application like content moderation or customer feedback analysis, high false positives mean that many irrelevant comments would be flagged for response. This can lead to inefficient use of resources and missed opportunities to engage with truly relevant comments.\n",
    "- User Experience: In applications like spam detection, a high number of false positives can frustrate users, as legitimate messages may be incorrectly flagged as spam.\n",
    "- Operational Efficiency: For customer service applications, responding to false positives wastes time and effort that could be better spent addressing genuine issues."
   ]
  },
  {
   "metadata": {},
   "cell_type": "markdown",
   "source": "But, let's try with more data in our training set to see the impact on the model performance. We will initialise a new model and train it on 10000 comments. "
  },
  {
   "cell_type": "code",
   "source": [
    "X_train, y_train = train['message'], train['target']\n",
    "X_train_sample, y_train_sample = equal_class_sampling(X_train, y_train, 10000)\n",
    "_, X_test_sample, _, y_test_sample = train_test_split(X_valid, y_valid, test_size=0.02, random_state=42)"
   ],
   "metadata": {
    "colab": {
     "base_uri": "https://localhost:8080/"
    },
    "id": "eL8ZmneHqOSj",
    "outputId": "af75dd9b-263b-4e8b-c489-9a39062f9e47"
   },
   "outputs": [],
   "execution_count": null
  },
  {
   "cell_type": "code",
   "source": [
    "#| label: fig-cap-margin2\n",
    "#| fig-cap: \"Series of graphs depicting the performance metrics of the model. The metrics include Training Loss, Accuracy, Precision, Recall, and F2 score for both training and testing data.\"\n",
    "\n",
    "history = {}\n",
    "BATCH_SIZE = 16\n",
    "LEARNING_RATE = 1e-4\n",
    "weight_decay = 1e-2\n",
    "EPOCHS = 10\n",
    "data = {'X_train': X_train_sample, 'y_train': y_train_sample, 'X_test': X_test_sample, 'y_test': y_test_sample}\n",
    "model, tokz, train_loader, test_loader = get_loader(models['cmb'], data, bs=BATCH_SIZE, use_special_pad_token=True, num_workers=8)\n",
    "model.to(device)\n",
    "\n",
    "start_time = time.time()\n",
    "train_model(model, train_loader, test_loader, history, num_epochs=EPOCHS, lr=LEARNING_RATE, early_stopping_patience=2, weight_decay=weight_decay)\n",
    "end_time = time.time()\n",
    "execution_time = end_time - start_time\n",
    "\n",
    "clear_output()\n",
    "print(\"Execution time:\", execution_time, \"seconds\")\n",
    "\n",
    "start_time = time.time()\n",
    "evaluate_model(tokz, model, (X_valid_sample, y_valid_sample), history, device, bs = BATCH_SIZE * 2, plot_train=True)\n",
    "end_time = time.time()\n",
    "execution_time = end_time - start_time\n",
    "print(\"Execution time:\", execution_time, \"seconds\")"
   ],
   "metadata": {
    "colab": {
     "base_uri": "https://localhost:8080/",
     "height": 570
    },
    "id": "ik1bOotYqRAW",
    "outputId": "ded74fd0-2a4a-42d1-e16d-ec39b5198250"
   },
   "execution_count": 30,
   "outputs": [
    {
     "output_type": "stream",
     "name": "stdout",
     "text": [
      "Execution time: 1122.6102643013 seconds\n"
     ]
    },
    {
     "output_type": "display_data",
     "data": {
      "text/plain": [
       "<Figure size 1700x600 with 5 Axes>"
      ],
      "image/png": "[encoded data removed]"
     },
     "metadata": {}
    },
    {
     "output_type": "stream",
     "name": "stdout",
     "text": [
      "Test Metrics:\n",
      "  Eval Accuracy: 0.6856898578604254\n",
      "  Eval Precision: 0.25793871866295265\n",
      "  Eval Recall: 0.769742310889443\n",
      "  Eval F2: 23.946211533488494\n",
      "Execution time: 84.70709776878357 seconds\n"
     ]
    }
   ]
  },
  {
   "metadata": {},
   "cell_type": "markdown",
   "source": [
    "The F2 score improved from 21% to 23%. But can we conclude that it's the increased training set that induces these results?\n",
    "\n",
    "Let's try it with a larger training set. "
   ]
  },
  {
   "cell_type": "code",
   "source": [
    "X_train, y_train = train['message'], train['target']\n",
    "X_train_sample, y_train_sample = equal_class_sampling(X_train, y_train, 15000)\n",
    "_, X_test_sample, _, y_test_sample = train_test_split(X_valid, y_valid, test_size=0.02, random_state=42)"
   ],
   "metadata": {
    "colab": {
     "base_uri": "https://localhost:8080/"
    },
    "id": "DW-sbVNoxdh8",
    "outputId": "2c81ea7b-c84f-4e90-aed8-3d1922e1fefe"
   },
   "outputs": [],
   "execution_count": null
  },
  {
   "cell_type": "code",
   "source": [
    "#| label: fig-cap-margin3\n",
    "#| fig-cap: \"Series of graphs depicting the performance metrics of the model. The metrics include Training Loss, Accuracy, Precision, Recall, and F2 score for both training and testing data.\"\n",
    "\n",
    "history = {}\n",
    "BATCH_SIZE = 32\n",
    "LEARNING_RATE = 1e-4\n",
    "weight_decay = 1e-2\n",
    "EPOCHS = 10\n",
    "data = {'X_train': X_train_sample, 'y_train': y_train_sample, 'X_test': X_test_sample, 'y_test': y_test_sample}\n",
    "model, tokz, train_loader, test_loader = get_loader(models['cmb'], data, bs=BATCH_SIZE, use_special_pad_token=True, num_workers=8)\n",
    "model.to(device)\n",
    "\n",
    "start_time = time.time()\n",
    "train_model(model, train_loader, test_loader, history, num_epochs=EPOCHS, lr=LEARNING_RATE, early_stopping_patience=2, weight_decay=weight_decay)\n",
    "end_time = time.time()\n",
    "execution_time = end_time - start_time\n",
    "\n",
    "clear_output()\n",
    "print(\"Execution time:\", execution_time, \"seconds\")\n",
    "\n",
    "start_time = time.time()\n",
    "evaluate_model(tokz, model, (X_valid_sample, y_valid_sample), history, device, bs = BATCH_SIZE * 2, plot_train=True)\n",
    "end_time = time.time()\n",
    "execution_time = end_time - start_time\n",
    "print(\"Execution time:\", execution_time, \"seconds\")"
   ],
   "metadata": {
    "colab": {
     "base_uri": "https://localhost:8080/",
     "height": 570
    },
    "id": "wXTmtN7Vxfoh",
    "outputId": "76cc62cb-0659-475d-a63c-fe92852e4214"
   },
   "execution_count": 35,
   "outputs": [
    {
     "output_type": "stream",
     "name": "stdout",
     "text": [
      "Execution time: 1914.5363965034485 seconds\n"
     ]
    },
    {
     "output_type": "display_data",
     "data": {
      "text/plain": [
       "<Figure size 1700x600 with 5 Axes>"
      ],
      "image/png": "[encoded data removed]"
     },
     "metadata": {}
    },
    {
     "output_type": "stream",
     "name": "stdout",
     "text": [
      "Test Metrics:\n",
      "  Eval Accuracy: 0.7079192048733568\n",
      "  Eval Precision: 0.26705237515225333\n",
      "  Eval Recall: 0.7290108063175395\n",
      "  Eval F2: 24.293628808864266\n",
      "Execution time: 85.33442664146423 seconds\n"
     ]
    }
   ]
  },
  {
   "metadata": {},
   "cell_type": "markdown",
   "source": [
    "On test set, the F2 score of the model improve again from 23% to 24%. \n",
    "\n",
    "###### Conclusion:\n",
    "The increase in the training set size helps the model generalize better to the test data, reducing overfitting and improving its ability to balance precision and recall effectively."
   ]
  },
  {
   "metadata": {},
   "cell_type": "markdown",
   "source": [
    "## Takeaways\n",
    "\n",
    "1. **Dataset Analysis is Crucial**: Always begin by analyzing your dataset. Understanding the distribution and characteristics of your data helps in making informed decisions about model training and evaluation. In scenarios with limited resources, generating more data for the underrepresented class might not be feasible. Instead, sampling equal numbers of comments from each class for the training set can help reduce bias towards the overrepresented class.\n",
    "\n",
    "2. **Balanced Training, Unbalanced Validation**: While balancing the training set by equal sampling is important to reduce bias, the validation set should remain unbalanced. This approach ensures that the model's performance is evaluated in a realistic manner, reflecting its ability to generalize to the true distribution of the data.\n",
    "\n",
    "3. **Resource-Based Training Strategy**: Define your training strategy based on the available resources. When computational power or time is limited, working with a smaller, balanced sample of the dataset is a practical approach. This allows for iterative experimentation and tuning without the overhead of processing the entire dataset.\n",
    "\n",
    "4. **Problem-Specific Metrics**: Choose evaluation metrics that align with your problem's objectives. For instance, in this scenario, the F2 score (F2 = tp / (tp + 2 * fn + fp)) is used to evaluate model performance by balancing the detection of the positive class and minimizing errors.\n",
    "\n",
    "5. **Initial Model Performance**: After the first round of training, the F2 score indicates that the model prioritizes recall over precision. This is evidenced by the high recall but low precision on the test set.\n",
    "\n",
    "6. **Impact of False Positives**: High false positives can be problematic in real-world applications. They can lead to inefficient use of resources and missed opportunities to engage with truly relevant comments. This highlights the need for a balance between precision and recall.\n",
    "\n",
    "7. **Training Set Size and Generalization**: Increasing the size of the training set helps the model generalize better to the test data. A larger training set reduces overfitting and enhances the model's ability to balance precision and recall effectively. This results in improved overall performance and more reliable predictions.\n",
    "\n",
    "8. **Choosing the Right Model**: Select a model that is suitable for your specific problem. For instance, since the dataset consists of French text, using CamemBERT, a model specifically designed for the French language, is an appropriate choice.\n",
    "\n",
    "9. **Hyperparameter Tuning**: Finding the optimal hyperparameters for your model is crucial and often involves extensive experimentation. Before finalizing the model, numerous combinations were tested to identify the best-performing configuration. Hyperparameter tuning is more of an art than a strict recipe, requiring intuition and experience to achieve the best results."
   ]
  }
 ]
}
